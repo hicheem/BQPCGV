{
  "nbformat": 4,
  "nbformat_minor": 0,
  "metadata": {
    "colab": {
      "provenance": [],
      "gpuType": "T4",
      "mount_file_id": "1WtJppbmw0G7-uvajzVrTV_IKXV-g6onx",
      "authorship_tag": "ABX9TyNirVudkX5hHQXwm5hRTnpg",
      "include_colab_link": true
    },
    "kernelspec": {
      "name": "python3",
      "display_name": "Python 3"
    },
    "language_info": {
      "name": "python"
    }
  },
  "cells": [
    {
      "cell_type": "markdown",
      "metadata": {
        "id": "view-in-github",
        "colab_type": "text"
      },
      "source": [
        "<a href=\"https://colab.research.google.com/github/hicheem/BQPCGV/blob/main/Untitled0.ipynb\" target=\"_parent\"><img src=\"https://colab.research.google.com/assets/colab-badge.svg\" alt=\"Open In Colab\"/></a>"
      ]
    },
    {
      "cell_type": "code",
      "source": [
        "!cp '/content/drive/MyDrive/PFE Project/dmos_model/299densenet_new_dmos_fine.h5' './'"
      ],
      "metadata": {
        "id": "6QhQmS12cUj2"
      },
      "execution_count": 1,
      "outputs": []
    },
    {
      "cell_type": "code",
      "source": [
        "!cp '/content/drive/MyDrive/PFE Project/Data_Process/DATASET/GVSET/DistortedVideos/CSGO_30fps_30sec_Part1_1280x720_1600_x264.mp4' './'"
      ],
      "metadata": {
        "id": "7Ow3uWYncZ1m"
      },
      "execution_count": null,
      "outputs": []
    },
    {
      "cell_type": "code",
      "source": [
        "!cp '/content/drive/MyDrive/PFE Project/densenet_v2.h5' './'"
      ],
      "metadata": {
        "id": "t07I31i-dC2o"
      },
      "execution_count": 2,
      "outputs": []
    },
    {
      "cell_type": "code",
      "source": [
        "!git clone https://github.com/hicheem/BQPCGV.git"
      ],
      "metadata": {
        "colab": {
          "base_uri": "https://localhost:8080/"
        },
        "id": "p4c86PR-b1CW",
        "outputId": "7fbe8821-b612-4eba-ea95-a56ac362efb3"
      },
      "execution_count": 3,
      "outputs": [
        {
          "output_type": "stream",
          "name": "stdout",
          "text": [
            "Cloning into 'BQPCGV'...\n",
            "remote: Enumerating objects: 98, done.\u001b[K\n",
            "remote: Counting objects: 100% (98/98), done.\u001b[K\n",
            "remote: Compressing objects: 100% (73/73), done.\u001b[K\n",
            "remote: Total 98 (delta 46), reused 74 (delta 22), pack-reused 0\u001b[K\n",
            "Unpacking objects: 100% (98/98), 2.83 MiB | 10.43 MiB/s, done.\n"
          ]
        }
      ]
    },
    {
      "cell_type": "code",
      "source": [
        "!mkdir BQPCGV/models/model_weight/"
      ],
      "metadata": {
        "id": "mPl--Uq1cEYZ"
      },
      "execution_count": 7,
      "outputs": []
    },
    {
      "cell_type": "code",
      "source": [
        "!cp densenet_v2.h5 BQPCGV/models/model_weight/"
      ],
      "metadata": {
        "id": "VeY1MLOAb4w3"
      },
      "execution_count": 8,
      "outputs": []
    },
    {
      "cell_type": "code",
      "source": [
        "import os"
      ],
      "metadata": {
        "id": "vDR0_URpcIGR"
      },
      "execution_count": 9,
      "outputs": []
    },
    {
      "cell_type": "code",
      "source": [
        "os.chdir('BQPCGV')"
      ],
      "metadata": {
        "id": "buXe8q5hcJUb"
      },
      "execution_count": 10,
      "outputs": []
    },
    {
      "cell_type": "code",
      "source": [
        "!git config --global user.email \"hichem.faraoun@inttic.dz\""
      ],
      "metadata": {
        "id": "3skFfGNVcY6f"
      },
      "execution_count": 14,
      "outputs": []
    },
    {
      "cell_type": "code",
      "source": [
        "!git config --global user.name \"hicheem\""
      ],
      "metadata": {
        "id": "Hf8hfGRYcgnN"
      },
      "execution_count": 15,
      "outputs": []
    },
    {
      "cell_type": "code",
      "source": [
        "!git push -u main origin"
      ],
      "metadata": {
        "colab": {
          "base_uri": "https://localhost:8080/"
        },
        "id": "VUpeAoEAcLOX",
        "outputId": "5f82a9ce-2c53-4c64-b47a-900ba811a520"
      },
      "execution_count": 18,
      "outputs": [
        {
          "output_type": "stream",
          "name": "stdout",
          "text": [
            "fatal: 'main' does not appear to be a git repository\n",
            "fatal: Could not read from remote repository.\n",
            "\n",
            "Please make sure you have the correct access rights\n",
            "and the repository exists.\n"
          ]
        }
      ]
    },
    {
      "cell_type": "code",
      "source": [
        "!python test.py --model=/content/299densenet_new_dmos_fine.h5 --videopath=./ --videoname=CSGO_30fps_30sec_Part1_1280x720_1600_x264.mp4 -fps=1"
      ],
      "metadata": {
        "id": "CqPriD0YcVQq"
      },
      "execution_count": null,
      "outputs": []
    },
    {
      "cell_type": "code",
      "source": [
        "!mkdir .ssh/config"
      ],
      "metadata": {
        "id": "ATC5xPVp9RM4"
      },
      "execution_count": null,
      "outputs": []
    },
    {
      "cell_type": "code",
      "source": [
        "!ssh-keygen -t ed25519 -C \"hichem.faraoun@inttic.dz\""
      ],
      "metadata": {
        "colab": {
          "base_uri": "https://localhost:8080/"
        },
        "id": "TpgCi87wczzO",
        "outputId": "56d8b37a-85fd-4fa6-dc85-cb0d62ba0048"
      },
      "execution_count": null,
      "outputs": [
        {
          "output_type": "stream",
          "name": "stdout",
          "text": [
            "y\n",
            "Generating public/private ed25519 key pair.\n",
            "Enter file in which to save the key (/root/.ssh/id_ed25519): Enter passphrase (empty for no passphrase): \n",
            "Enter same passphrase again: \n",
            "Your identification has been saved in y\n",
            "Your public key has been saved in y.pub\n",
            "The key fingerprint is:\n",
            "SHA256:vG7JuTYlN7qEhsaVssqhKgr8KB1EnvjmmYssZm/pS/I hichem.faraoun@inttic.dz\n",
            "The key's randomart image is:\n",
            "+--[ED25519 256]--+\n",
            "|                 |\n",
            "|  .              |\n",
            "| + .             |\n",
            "|. +    o         |\n",
            "| o  . o S        |\n",
            "|. +. = ...+      |\n",
            "|.*.=* o.oB .     |\n",
            "|**@* . oO        |\n",
            "|&oBE.  o++       |\n",
            "+----[SHA256]-----+\n"
          ]
        }
      ]
    },
    {
      "cell_type": "code",
      "source": [
        "!eval \"$(ssh-agent -s)\""
      ],
      "metadata": {
        "colab": {
          "base_uri": "https://localhost:8080/"
        },
        "id": "6XuWq1y_yjyM",
        "outputId": "0a53804d-addc-490d-ef73-8265e379d818"
      },
      "execution_count": null,
      "outputs": [
        {
          "output_type": "stream",
          "name": "stdout",
          "text": [
            "Agent pid 3136\n"
          ]
        }
      ]
    },
    {
      "cell_type": "code",
      "source": [
        "!ssh-add y"
      ],
      "metadata": {
        "id": "sqwQNgqh-rE2",
        "outputId": "957d668f-cf02-44eb-fbc0-136a10b2dfe6",
        "colab": {
          "base_uri": "https://localhost:8080/"
        }
      },
      "execution_count": null,
      "outputs": [
        {
          "output_type": "stream",
          "name": "stdout",
          "text": [
            "Could not open a connection to your authentication agent.\n"
          ]
        }
      ]
    },
    {
      "cell_type": "code",
      "source": [
        "!git clone https://github.com/hicheem/BQPCGV.git"
      ],
      "metadata": {
        "id": "PNalBTDZzSXS"
      },
      "execution_count": null,
      "outputs": []
    },
    {
      "cell_type": "code",
      "source": [
        "!git clone git@github.com:hicheem/BQPCGV.git"
      ],
      "metadata": {
        "colab": {
          "base_uri": "https://localhost:8080/"
        },
        "id": "WJMhTLjv5HBp",
        "outputId": "f509ee31-b67f-40f4-a2ae-0074a3c9df03"
      },
      "execution_count": null,
      "outputs": [
        {
          "output_type": "stream",
          "name": "stdout",
          "text": [
            "Cloning into 'BQPCGV'...\n",
            "Host key verification failed.\r\n",
            "fatal: Could not read from remote repository.\n",
            "\n",
            "Please make sure you have the correct access rights\n",
            "and the repository exists.\n"
          ]
        }
      ]
    },
    {
      "cell_type": "code",
      "source": [
        "!mkdir .ssh/config"
      ],
      "metadata": {
        "id": "9RFNksGq6qU8"
      },
      "execution_count": null,
      "outputs": []
    },
    {
      "cell_type": "code",
      "source": [
        "!cp id_rsa .ssh/config"
      ],
      "metadata": {
        "id": "URrDrFW45cE-"
      },
      "execution_count": null,
      "outputs": []
    },
    {
      "cell_type": "code",
      "source": [
        "!mv '/content/BQPCGV/model_Final_DMOS.h5' './' "
      ],
      "metadata": {
        "id": "3OwKVigB2-KA"
      },
      "execution_count": null,
      "outputs": []
    },
    {
      "cell_type": "code",
      "source": [
        "!rm -r BQPCGV"
      ],
      "metadata": {
        "id": "hDOGMf7w5UjR"
      },
      "execution_count": null,
      "outputs": []
    },
    {
      "cell_type": "code",
      "source": [
        "import os\n",
        "os.chdir('/content')"
      ],
      "metadata": {
        "id": "-cy0m_EF3DJH"
      },
      "execution_count": null,
      "outputs": []
    },
    {
      "cell_type": "code",
      "source": [],
      "metadata": {
        "id": "n6Ceew8_2tS5"
      },
      "execution_count": null,
      "outputs": []
    }
  ]
}